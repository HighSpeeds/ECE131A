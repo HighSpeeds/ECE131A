{
 "cells": [
  {
   "cell_type": "code",
   "execution_count": 8,
   "metadata": {},
   "outputs": [],
   "source": [
    "import numpy as np\n",
    "\n",
    "\n",
    "n_1=0\n",
    "n_2=0\n",
    "n_3=0\n",
    "\n",
    "for i in range(2000000):\n",
    "    colors=[]\n",
    "    for j in range(6):\n",
    "        colors.append(np.random.randint(1,4))\n",
    "    if len(np.unique(colors))==1:\n",
    "        n_1+=1\n",
    "    elif len(np.unique(colors))==2:\n",
    "        n_2+=1\n",
    "    else:\n",
    "        n_3+=1"
   ]
  },
  {
   "cell_type": "code",
   "execution_count": 9,
   "metadata": {},
   "outputs": [
    {
     "data": {
      "text/plain": [
       "(0.0040755, 0.255441, 0.7404835)"
      ]
     },
     "execution_count": 9,
     "metadata": {},
     "output_type": "execute_result"
    }
   ],
   "source": [
    "n_1/2000000,n_2/2000000,n_3/2000000"
   ]
  },
  {
   "cell_type": "code",
   "execution_count": 10,
   "metadata": {},
   "outputs": [
    {
     "name": "stdout",
     "output_type": "stream",
     "text": [
      "0.199953\n",
      "0.199541\n",
      "0.200551\n",
      "0.200146\n",
      "0.199809\n"
     ]
    }
   ],
   "source": [
    "ns=5*[0]\n",
    "\n",
    "for i in range(1000000):\n",
    "    socks=2*[\"blue\"]+2*[\"red\"]+[\"white\"]\n",
    "\n",
    "    for draw in range(5):\n",
    "        sock=np.random.choice(socks)\n",
    "        socks.remove(sock)\n",
    "        if sock==\"white\":\n",
    "            ns[draw]+=1\n",
    "            break\n",
    "\n",
    "for i in range(5):\n",
    "    print(ns[i]/1000000)\n"
   ]
  },
  {
   "cell_type": "code",
   "execution_count": null,
   "metadata": {},
   "outputs": [],
   "source": []
  }
 ],
 "metadata": {
  "kernelspec": {
   "display_name": "Python 3.10.7 64-bit",
   "language": "python",
   "name": "python3"
  },
  "language_info": {
   "codemirror_mode": {
    "name": "ipython",
    "version": 3
   },
   "file_extension": ".py",
   "mimetype": "text/x-python",
   "name": "python",
   "nbconvert_exporter": "python",
   "pygments_lexer": "ipython3",
   "version": "3.10.7"
  },
  "orig_nbformat": 4,
  "vscode": {
   "interpreter": {
    "hash": "e7370f93d1d0cde622a1f8e1c04877d8463912d04d973331ad4851f04de6915a"
   }
  }
 },
 "nbformat": 4,
 "nbformat_minor": 2
}

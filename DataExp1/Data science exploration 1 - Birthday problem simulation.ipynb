{
 "cells": [
  {
   "cell_type": "markdown",
   "metadata": {},
   "source": [
    "## ECE 131A Data science exploration 1: Please complete this jupyter notebook by filling out the code blocks. Once you have completed the notebook, generate a PDF of the completed notebook and upload the PDF to Gradescope by 11:59 PM on 10/15/2022."
   ]
  },
  {
   "cell_type": "markdown",
   "metadata": {},
   "source": [
    "\n",
    "## In this data science exploration, we will be visiting the 'Birthday Problem'. The problem computes the probability of having at least one birthday coincidence in a random group of people. We derived an exact analytical solution to this problem in Lecture 3, but in this part we will estimate the probability empirically with the help of a computer simulation. Empirically estimating probabilities of outcomes involves repeating the process that leads to the outcomes a large number of times. Then using the law of large numbers, we estimate the probability of an outcome as:\n",
    "## $ \\begin{align}\n",
    "P(outcome) \\sim \\frac{\\# outcome}{\\# trials}\n",
    "\\end{align}$\n",
    "\n",
    "## Approximating the birthday coincidence probability with this approach basically involves taking random k-people samples from the population and counting how many of them have at least one birthday coincidence. Then you simply divide this number by the total number of samples and this is (approximately) the probability of the “At Least One Coincidence” (ALOC) outcome.But since actually obtaining random samples of birthdays is quite difficult and time-consuming, we want to simulate this process on a computer with the simplifying assumptions from the original birthday problem. Namely:\n",
    "\n",
    "## - The birthdays are independent of each other\n",
    "## - Each possible birthday has the same probability\n",
    "## - There are only 365 possible birthdays \n",
    "\n",
    "## In a nutshell, here is what our simulation should do:\n",
    "\n",
    "## 1. Generate a list of k random numbers between 1 and 365 (representing the 365 possible birthdays of the k people)\n",
    "\n",
    "## 2. Check if the list contains any coincidences or all k numbers are different\n",
    "\n",
    "## 3. Repeat steps 1 and 2 N number of times and keep track of the number of lists with at least one coincidence (C)\n",
    "\n",
    "## 4. Estimate $P(ALOC) = \\frac{C}{N}$"
   ]
  },
  {
   "cell_type": "code",
   "execution_count": 1,
   "metadata": {},
   "outputs": [],
   "source": [
    "## Importing the necessary packages\n",
    "from random import randint\n",
    " \n",
    "import matplotlib.pyplot as plt\n",
    "import numpy as np\n",
    "from IPython.display import display, Math, Latex\n",
    "#added some packages for multiprocessing\n",
    "from multiprocessing import Pool\n",
    "import os"
   ]
  },
  {
   "cell_type": "markdown",
   "metadata": {},
   "source": [
    "## Step 1: Generating a list of k random numbers between 1 and 365"
   ]
  },
  {
   "cell_type": "code",
   "execution_count": 2,
   "metadata": {},
   "outputs": [],
   "source": [
    "## Write a function that takes in the parameter k and returns a list of k random numbers between 1 and 365\n",
    "## Helpful functions: randint\n",
    "\n",
    "def generate_birthdays(k):\n",
    "    \n",
    "   # Start your code here\n",
    "\n",
    "    return np.random.randint(1,366,size=k)\n",
    "\n",
    "    # End your code here\n",
    "    "
   ]
  },
  {
   "cell_type": "markdown",
   "metadata": {},
   "source": [
    "## Step 2: Check if the list contains any coincidences or all k numbers are different"
   ]
  },
  {
   "cell_type": "code",
   "execution_count": 3,
   "metadata": {},
   "outputs": [],
   "source": [
    "## Write a function that takes in the list of birthdays and returns a True if the list has any coincidence or False if \n",
    "## all the birthdays in the list are distinct\n",
    "## Helpful functions: set,len\n",
    "\n",
    "def coincidence(birthday_list):\n",
    "    \n",
    "    # Start your code here\n",
    "    \n",
    "    _,counts=np.unique(birthday_list,return_counts=True)\n",
    "    return np.sum(counts>1)>0\n",
    "\n",
    "    # End your code here\n"
   ]
  },
  {
   "cell_type": "markdown",
   "metadata": {},
   "source": [
    "## Step 3: Repeat step 1 and step 2 N number of times and keep track of the number of lists with at least one coincidence (C)"
   ]
  },
  {
   "cell_type": "code",
   "execution_count": 4,
   "metadata": {},
   "outputs": [],
   "source": [
    "## Write a function that takes in the parameter number of trials N, number of people k,\n",
    "## and runs steps 1 and 2 N number of times and returns the number of times there is at least one coincidence (C)\n",
    "\n",
    "def num_coincidence(N,k):\n",
    "    \n",
    "    # Start your code here\n",
    "    n=0\n",
    "    for i in range(N):\n",
    "        birthdays=generate_birthdays(k)\n",
    "        n+=coincidence(birthdays)\n",
    "    return n\n",
    "\n",
    "    # End your code here\n",
    "        "
   ]
  },
  {
   "cell_type": "markdown",
   "metadata": {},
   "source": [
    "## Step 4: Estimate the probability of having at least one coincidence"
   ]
  },
  {
   "cell_type": "code",
   "execution_count": 7,
   "metadata": {},
   "outputs": [],
   "source": [
    "## Write a function that takes in the parameter number of people k, number of trials N and returns the \n",
    "## probability estimate of having at least one coincidence\n",
    "\n",
    "def estimate_p_aloc(N,k):\n",
    "    \n",
    "    # Start your code here\n",
    "    \n",
    "    n=num_coincidence(N,k)\n",
    "    return n/N\n",
    "    \n",
    "\n",
    "    # End your code here"
   ]
  },
  {
   "cell_type": "markdown",
   "metadata": {},
   "source": [
    "## Estimate the probability of having at least one coincidence in a group of 23 people by running simulation for [500,1000,5000,10000,20000] trials. For a given number of trial, you should repeat the simulation 100 times to get 100 probability estimates and record the mean and variance of these 100 probability estimates. Plot the mean of the probability estimates as a function of the number of trials with the variance of the probability estimates displayed as an error bar in the plot."
   ]
  },
  {
   "cell_type": "code",
   "execution_count": 8,
   "metadata": {},
   "outputs": [
    {
     "name": "stdout",
     "output_type": "stream",
     "text": [
      "1\n",
      "0.532\n"
     ]
    }
   ],
   "source": [
    "## Helpful functions: np.mean,np.var,plt.plot,plt.errorbar\n",
    "\n",
    "\n",
    "## Start your code here\n",
    "n_trials=[500,1000,5000,10000,20000]\n",
    "n_reps=100\n",
    "n_people=23\n",
    "\n",
    "probabilites=np.empty((len(n_trials),n_reps))\n",
    "\n",
    "#use multiprocess to be faster ;)\n",
    "pool=Pool(os.cpu_count())\n",
    "print(1)\n",
    "for i,n_trial in enumerate(n_trials):\n",
    "    print(estimate_p_aloc(n_trial,n_people))\n",
    "    val=pool.map(estimate_p_aloc, n_reps*[n_trial,n_people])\n",
    "    print(val)\n",
    "    break\n",
    "\n",
    "## End your code here\n"
   ]
  },
  {
   "cell_type": "markdown",
   "metadata": {},
   "source": [
    "## Generate a plot of P(having at least one coincidence) as a function of the number of people: Sweep the number of people from 2 to 60 in increments of 1 and for a given number of people repeat the simulation 10 times (each simulation with 10,000 trials) to get 10 probability estimates of having at least one coincidence and record the mean and variance of these 10 probability estimates. Plot the mean of the probability estimates as a function of the number of people with the variance of the probability estimates displayed as an error bar in the plot.\n"
   ]
  },
  {
   "cell_type": "code",
   "execution_count": 16,
   "metadata": {},
   "outputs": [],
   "source": [
    "## Helpful functions: np.mean,np.var,plt.plot,plt.errorbar\n",
    "\n",
    "\n",
    "## Start your code here\n",
    "\n",
    "pass\n",
    "\n",
    "## End your code here\n"
   ]
  },
  {
   "cell_type": "code",
   "execution_count": null,
   "metadata": {},
   "outputs": [],
   "source": []
  }
 ],
 "metadata": {
  "kernelspec": {
   "display_name": "Python 3.9.12 ('base')",
   "language": "python",
   "name": "python3"
  },
  "language_info": {
   "codemirror_mode": {
    "name": "ipython",
    "version": 3
   },
   "file_extension": ".py",
   "mimetype": "text/x-python",
   "name": "python",
   "nbconvert_exporter": "python",
   "pygments_lexer": "ipython3",
   "version": "3.9.12"
  },
  "vscode": {
   "interpreter": {
    "hash": "19e89d5353d4146e62317e49268a945e919fb3369eb7ce1f38db2346a403f5a4"
   }
  }
 },
 "nbformat": 4,
 "nbformat_minor": 2
}

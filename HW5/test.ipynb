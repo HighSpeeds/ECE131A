{
 "cells": [
  {
   "cell_type": "code",
   "execution_count": 1,
   "metadata": {},
   "outputs": [],
   "source": [
    "def X(l):\n",
    "    if l==2:\n",
    "        return 3*2/(11*10)\n",
    "    elif l==1:\n",
    "        return 2*8*3/(11*10)\n",
    "    else:\n",
    "        return 8*7/(11*10)"
   ]
  },
  {
   "cell_type": "code",
   "execution_count": 4,
   "metadata": {},
   "outputs": [
    {
     "name": "stdout",
     "output_type": "stream",
     "text": [
      "the mean is\n",
      "0.5454545454545454\n",
      "the squared mean is\n",
      "0.6545454545454545\n",
      "the variance is\n",
      "0.3570247933884298\n",
      "The variance is 0.3570247933884298\n"
     ]
    }
   ],
   "source": [
    "mean=0\n",
    "squared_mean=0\n",
    "for i in range(3):\n",
    "    mean+=i*X(i)\n",
    "    squared_mean+=X(i)*i**2\n",
    "\n",
    "print(\"the mean is\")\n",
    "print(mean)\n",
    "print(\"the squared mean is\")\n",
    "print(squared_mean)\n",
    "print(\"the variance is\")\n",
    "print(squared_mean-mean**2)\n",
    "variance=squared_mean-mean**2\n",
    "print(\"The variance is\",variance)"
   ]
  },
  {
   "cell_type": "code",
   "execution_count": null,
   "metadata": {},
   "outputs": [],
   "source": []
  }
 ],
 "metadata": {
  "kernelspec": {
   "display_name": "Python 3.11.0 64-bit",
   "language": "python",
   "name": "python3"
  },
  "language_info": {
   "codemirror_mode": {
    "name": "ipython",
    "version": 3
   },
   "file_extension": ".py",
   "mimetype": "text/x-python",
   "name": "python",
   "nbconvert_exporter": "python",
   "pygments_lexer": "ipython3",
   "version": "3.11.0"
  },
  "orig_nbformat": 4,
  "vscode": {
   "interpreter": {
    "hash": "bba3ff4997165c1194f13d6ba132959aa03ec11dd350457e9411c0bcaf3d4665"
   }
  }
 },
 "nbformat": 4,
 "nbformat_minor": 2
}

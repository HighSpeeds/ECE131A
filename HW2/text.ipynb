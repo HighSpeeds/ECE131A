{
 "cells": [
  {
   "cell_type": "code",
   "execution_count": 2,
   "metadata": {},
   "outputs": [
    {
     "name": "stdout",
     "output_type": "stream",
     "text": [
      "0.03868\n"
     ]
    }
   ],
   "source": [
    "import numpy as np\n",
    "n=0\n",
    "for i in range(100000):\n",
    "    buckets=[0]*5\n",
    "    for j in range(5):\n",
    "        buckets[np.random.randint(0,5)]+=1\n",
    "    if buckets[0]==buckets[1]==buckets[2]==buckets[3]==buckets[4]:\n",
    "        n+=1\n",
    "print(n/100000)"
   ]
  },
  {
   "cell_type": "code",
   "execution_count": 5,
   "metadata": {},
   "outputs": [
    {
     "data": {
      "text/plain": [
       "33373"
      ]
     },
     "execution_count": 5,
     "metadata": {},
     "output_type": "execute_result"
    }
   ],
   "source": [
    "n=0\n",
    "j=2\n",
    "for i in range(100000):\n",
    "    socks=2*[1,2,3,4,5]\n",
    "    np.random.shuffle(socks)\n",
    "\n",
    "    n+=1 if any(np.unique(socks[:j+1],return_counts=True)[1]>1) else 0\n",
    "n"
   ]
  },
  {
   "cell_type": "code",
   "execution_count": 3,
   "metadata": {},
   "outputs": [
    {
     "name": "stdout",
     "output_type": "stream",
     "text": [
      "571453\n",
      "428547\n",
      "285935\n",
      "1428611\n"
     ]
    }
   ],
   "source": [
    "p_A=0.5\n",
    "P_B=0.4\n",
    "\n",
    "n=4\n",
    "n_Ahit=0\n",
    "n_stop=0\n",
    "n_both=0\n",
    "n_Bhit=0\n",
    "for i in range(1000000):\n",
    "    A_hit=False\n",
    "    B_hit=False\n",
    "    n_trials=0\n",
    "    while (not A_hit) and (not B_hit):\n",
    "\n",
    "        n_trials+=1\n",
    "\n",
    "        if np.random.random()<P_B:\n",
    "            A_hit=True\n",
    "        if np.random.random()<p_A:\n",
    "            B_hit=True\n",
    "    n_Ahit+=A_hit\n",
    "    n_Bhit+=(B_hit and (not A_hit))\n",
    "    n_both+=A_hit and B_hit\n",
    "    n_stop+=n_trials\n",
    "print(n_Ahit)\n",
    "print(n_Bhit)\n",
    "print(n_both)\n",
    "print(n_stop)"
   ]
  },
  {
   "cell_type": "code",
   "execution_count": 4,
   "metadata": {},
   "outputs": [
    {
     "data": {
      "text/plain": [
       "0.28571428571428575"
      ]
     },
     "execution_count": 4,
     "metadata": {},
     "output_type": "execute_result"
    }
   ],
   "source": [
    "(p_A*P_B)/(1-(1-P_B)*(1-p_A))"
   ]
  },
  {
   "cell_type": "code",
   "execution_count": 34,
   "metadata": {},
   "outputs": [
    {
     "data": {
      "text/plain": [
       "3.3333333333333335"
      ]
     },
     "execution_count": 34,
     "metadata": {},
     "output_type": "execute_result"
    }
   ],
   "source": [
    "1/((1-p_A)*(1-P_B))"
   ]
  },
  {
   "cell_type": "code",
   "execution_count": 14,
   "metadata": {},
   "outputs": [
    {
     "data": {
      "text/plain": [
       "5.0"
      ]
     },
     "execution_count": 14,
     "metadata": {},
     "output_type": "execute_result"
    }
   ],
   "source": [
    "1/((p_A)*(P_B))"
   ]
  },
  {
   "cell_type": "code",
   "execution_count": 17,
   "metadata": {},
   "outputs": [
    {
     "data": {
      "text/plain": [
       "0.2"
      ]
     },
     "execution_count": 17,
     "metadata": {},
     "output_type": "execute_result"
    }
   ],
   "source": [
    "p_A*P_B"
   ]
  },
  {
   "cell_type": "code",
   "execution_count": 23,
   "metadata": {},
   "outputs": [
    {
     "data": {
      "text/plain": [
       "1573958"
      ]
     },
     "execution_count": 23,
     "metadata": {},
     "output_type": "execute_result"
    }
   ],
   "source": [
    "571657+715322+286979"
   ]
  },
  {
   "cell_type": "code",
   "execution_count": 20,
   "metadata": {},
   "outputs": [
    {
     "data": {
      "text/plain": [
       "0.16792"
      ]
     },
     "execution_count": 20,
     "metadata": {},
     "output_type": "execute_result"
    }
   ],
   "source": [
    "\n",
    "\n",
    "\n",
    "n=1000\n",
    "r=3\n",
    "\n",
    "s=0\n",
    "for i in range(100000):\n",
    "    numbers=np.arange(1,n+1)\n",
    "    np.random.shuffle(numbers)\n",
    "    picks=numbers[:r]\n",
    "    SUCCESS=True\n",
    "    for j in range(1,r):\n",
    "        if picks[j] <= picks[j-1]:\n",
    "            SUCCESS=False\n",
    "    s+=SUCCESS\n",
    "\n",
    "s/100000\n",
    "        "
   ]
  },
  {
   "cell_type": "code",
   "execution_count": 21,
   "metadata": {},
   "outputs": [
    {
     "data": {
      "text/plain": [
       "0.16666666666666666"
      ]
     },
     "execution_count": 21,
     "metadata": {},
     "output_type": "execute_result"
    }
   ],
   "source": [
    "1/np.math.factorial(r) "
   ]
  },
  {
   "cell_type": "code",
   "execution_count": null,
   "metadata": {},
   "outputs": [],
   "source": []
  }
 ],
 "metadata": {
  "kernelspec": {
   "display_name": "Python 3.9.12 ('base')",
   "language": "python",
   "name": "python3"
  },
  "language_info": {
   "codemirror_mode": {
    "name": "ipython",
    "version": 3
   },
   "file_extension": ".py",
   "mimetype": "text/x-python",
   "name": "python",
   "nbconvert_exporter": "python",
   "pygments_lexer": "ipython3",
   "version": "3.9.12"
  },
  "orig_nbformat": 4,
  "vscode": {
   "interpreter": {
    "hash": "19e89d5353d4146e62317e49268a945e919fb3369eb7ce1f38db2346a403f5a4"
   }
  }
 },
 "nbformat": 4,
 "nbformat_minor": 2
}

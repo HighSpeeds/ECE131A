{
 "cells": [
  {
   "cell_type": "code",
   "execution_count": 2,
   "metadata": {},
   "outputs": [
    {
     "name": "stdout",
     "output_type": "stream",
     "text": [
      "0.03886\n"
     ]
    }
   ],
   "source": [
    "import numpy as np\n",
    "n=0\n",
    "for i in range(100000):\n",
    "    buckets=[0]*5\n",
    "    for j in range(5):\n",
    "        buckets[np.random.randint(0,5)]+=1\n",
    "    if buckets[0]==buckets[1]==buckets[2]==buckets[3]==buckets[4]:\n",
    "        n+=1\n",
    "print(n/100000)"
   ]
  },
  {
   "cell_type": "code",
   "execution_count": 5,
   "metadata": {},
   "outputs": [
    {
     "data": {
      "text/plain": [
       "33373"
      ]
     },
     "execution_count": 5,
     "metadata": {},
     "output_type": "execute_result"
    }
   ],
   "source": [
    "n=0\n",
    "j=2\n",
    "for i in range(100000):\n",
    "    socks=2*[1,2,3,4,5]\n",
    "    np.random.shuffle(socks)\n",
    "\n",
    "    n+=1 if any(np.unique(socks[:j+1],return_counts=True)[1]>1) else 0\n",
    "n"
   ]
  },
  {
   "cell_type": "code",
   "execution_count": null,
   "metadata": {},
   "outputs": [],
   "source": []
  }
 ],
 "metadata": {
  "kernelspec": {
   "display_name": "Python 3.9.12 ('base')",
   "language": "python",
   "name": "python3"
  },
  "language_info": {
   "codemirror_mode": {
    "name": "ipython",
    "version": 3
   },
   "file_extension": ".py",
   "mimetype": "text/x-python",
   "name": "python",
   "nbconvert_exporter": "python",
   "pygments_lexer": "ipython3",
   "version": "3.9.12"
  },
  "orig_nbformat": 4,
  "vscode": {
   "interpreter": {
    "hash": "19e89d5353d4146e62317e49268a945e919fb3369eb7ce1f38db2346a403f5a4"
   }
  }
 },
 "nbformat": 4,
 "nbformat_minor": 2
}

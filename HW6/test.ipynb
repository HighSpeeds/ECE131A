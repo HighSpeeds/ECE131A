{
 "cells": [
  {
   "cell_type": "code",
   "execution_count": 3,
   "metadata": {},
   "outputs": [],
   "source": [
    "import numpy as np\n",
    "import scipy.stats as stats\n"
   ]
  },
  {
   "cell_type": "code",
   "execution_count": 7,
   "metadata": {},
   "outputs": [
    {
     "name": "stdout",
     "output_type": "stream",
     "text": [
      "0.000489077274209325\n"
     ]
    }
   ],
   "source": [
    "Y_count=0\n",
    "n=0\n",
    "for i in range(1000000):\n",
    "    N=stats.poisson.rvs(18)\n",
    "    Y=0\n",
    "    B=0\n",
    "    R=0\n",
    "    for j in range(N):\n",
    "        S=np.random.random()\n",
    "        if S<1/3:\n",
    "            Y=Y+1\n",
    "        elif S<2/3:\n",
    "            B=B+1\n",
    "        else:\n",
    "            R=R+1\n",
    "    if R==7 and B==3:\n",
    "        Y_count+=Y\n",
    "        n+=1\n",
    "\n",
    "\n",
    "print(Y/n)"
   ]
  },
  {
   "cell_type": "code",
   "execution_count": null,
   "metadata": {},
   "outputs": [],
   "source": []
  }
 ],
 "metadata": {
  "kernelspec": {
   "display_name": "Python 3.9.13 ('base')",
   "language": "python",
   "name": "python3"
  },
  "language_info": {
   "codemirror_mode": {
    "name": "ipython",
    "version": 3
   },
   "file_extension": ".py",
   "mimetype": "text/x-python",
   "name": "python",
   "nbconvert_exporter": "python",
   "pygments_lexer": "ipython3",
   "version": "3.9.13"
  },
  "orig_nbformat": 4,
  "vscode": {
   "interpreter": {
    "hash": "19e89d5353d4146e62317e49268a945e919fb3369eb7ce1f38db2346a403f5a4"
   }
  }
 },
 "nbformat": 4,
 "nbformat_minor": 2
}
